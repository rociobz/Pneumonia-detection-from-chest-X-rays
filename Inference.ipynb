{
 "cells": [
  {
   "cell_type": "markdown",
   "metadata": {},
   "source": [
    "# Clinical Workflow Integration"
   ]
  },
  {
   "cell_type": "code",
   "execution_count": 1,
   "metadata": {},
   "outputs": [
    {
     "name": "stderr",
     "output_type": "stream",
     "text": [
      "Using TensorFlow backend.\n"
     ]
    }
   ],
   "source": [
    "import numpy as np\n",
    "import pandas as pd\n",
    "import pydicom\n",
    "%matplotlib inline\n",
    "import matplotlib.pyplot as plt\n",
    "import keras \n",
    "from skimage.transform import resize\n",
    "from keras.models import model_from_json\n",
    "import glob"
   ]
  },
  {
   "cell_type": "markdown",
   "metadata": {},
   "source": [
    "## Check DICOM header for proper image acquisition type, position, and body part  "
   ]
  },
  {
   "cell_type": "code",
   "execution_count": 2,
   "metadata": {},
   "outputs": [],
   "source": [
    "## First, read all of my DICOM files into a list\n",
    "mydicoms = glob.glob(\"*.dcm\")"
   ]
  },
  {
   "cell_type": "code",
   "execution_count": 3,
   "metadata": {},
   "outputs": [
    {
     "data": {
      "text/plain": [
       "Dataset.file_meta -------------------------------\n",
       "(0002, 0000) File Meta Information Group Length  UL: 204\n",
       "(0002, 0001) File Meta Information Version       OB: b'\\x00\\x01'\n",
       "(0002, 0002) Media Storage SOP Class UID         UI: Secondary Capture Image Storage\n",
       "(0002, 0003) Media Storage SOP Instance UID      UI: 1.3.6.1.4.1.11129.5.5.110503645592756492463169821050252582267888\n",
       "(0002, 0010) Transfer Syntax UID                 UI: Implicit VR Little Endian\n",
       "(0002, 0012) Implementation Class UID            UI: 1.2.826.0.1.3680043.8.498.1\n",
       "(0002, 0013) Implementation Version Name         SH: 'PYDICOM 1.2.0'\n",
       "-------------------------------------------------\n",
       "(0008, 0016) SOP Class UID                       UI: Secondary Capture Image Storage\n",
       "(0008, 0018) SOP Instance UID                    UI: 1.3.6.1.4.1.11129.5.5.110503645592756492463169821050252582267888\n",
       "(0008, 0060) Modality                            CS: 'DX'\n",
       "(0008, 1030) Study Description                   LO: 'No Finding'\n",
       "(0010, 0020) Patient ID                          LO: '2'\n",
       "(0010, 0040) Patient's Sex                       CS: 'M'\n",
       "(0010, 1010) Patient's Age                       AS: '81'\n",
       "(0018, 0015) Body Part Examined                  CS: 'CHEST'\n",
       "(0018, 5100) Patient Position                    CS: 'PA'\n",
       "(0020, 000d) Study Instance UID                  UI: 1.3.6.1.4.1.11129.5.5.112507010803284478207522016832191866964708\n",
       "(0020, 000e) Series Instance UID                 UI: 1.3.6.1.4.1.11129.5.5.112630850362182468372440828755218293352329\n",
       "(0028, 0002) Samples per Pixel                   US: 1\n",
       "(0028, 0004) Photometric Interpretation          CS: 'MONOCHROME2'\n",
       "(0028, 0010) Rows                                US: 1024\n",
       "(0028, 0011) Columns                             US: 1024\n",
       "(0028, 0100) Bits Allocated                      US: 8\n",
       "(0028, 0101) Bits Stored                         US: 8\n",
       "(0028, 0102) High Bit                            US: 7\n",
       "(0028, 0103) Pixel Representation                US: 0\n",
       "(7fe0, 0010) Pixel Data                          OW: Array of 1048576 elements"
      ]
     },
     "execution_count": 3,
     "metadata": {},
     "output_type": "execute_result"
    }
   ],
   "source": [
    "## Let's look at the contents of the first DICOM:\n",
    "dcm1 = pydicom.dcmread(mydicoms[0])\n",
    "dcm1"
   ]
  },
  {
   "cell_type": "code",
   "execution_count": 4,
   "metadata": {},
   "outputs": [
    {
     "data": {
      "text/html": [
       "<div>\n",
       "<style scoped>\n",
       "    .dataframe tbody tr th:only-of-type {\n",
       "        vertical-align: middle;\n",
       "    }\n",
       "\n",
       "    .dataframe tbody tr th {\n",
       "        vertical-align: top;\n",
       "    }\n",
       "\n",
       "    .dataframe thead th {\n",
       "        text-align: right;\n",
       "    }\n",
       "</style>\n",
       "<table border=\"1\" class=\"dataframe\">\n",
       "  <thead>\n",
       "    <tr style=\"text-align: right;\">\n",
       "      <th></th>\n",
       "      <th>Modality</th>\n",
       "      <th>Patient Position</th>\n",
       "      <th>Body Part Examined</th>\n",
       "    </tr>\n",
       "  </thead>\n",
       "  <tbody>\n",
       "    <tr>\n",
       "      <th>0</th>\n",
       "      <td>DX</td>\n",
       "      <td>PA</td>\n",
       "      <td>CHEST</td>\n",
       "    </tr>\n",
       "    <tr>\n",
       "      <th>1</th>\n",
       "      <td>DX</td>\n",
       "      <td>AP</td>\n",
       "      <td>CHEST</td>\n",
       "    </tr>\n",
       "    <tr>\n",
       "      <th>2</th>\n",
       "      <td>DX</td>\n",
       "      <td>AP</td>\n",
       "      <td>CHEST</td>\n",
       "    </tr>\n",
       "    <tr>\n",
       "      <th>3</th>\n",
       "      <td>DX</td>\n",
       "      <td>PA</td>\n",
       "      <td>RIBCAGE</td>\n",
       "    </tr>\n",
       "    <tr>\n",
       "      <th>4</th>\n",
       "      <td>CT</td>\n",
       "      <td>PA</td>\n",
       "      <td>CHEST</td>\n",
       "    </tr>\n",
       "    <tr>\n",
       "      <th>5</th>\n",
       "      <td>DX</td>\n",
       "      <td>XX</td>\n",
       "      <td>CHEST</td>\n",
       "    </tr>\n",
       "  </tbody>\n",
       "</table>\n",
       "</div>"
      ],
      "text/plain": [
       "  Modality Patient Position Body Part Examined\n",
       "0       DX               PA              CHEST\n",
       "1       DX               AP              CHEST\n",
       "2       DX               AP              CHEST\n",
       "3       DX               PA            RIBCAGE\n",
       "4       CT               PA              CHEST\n",
       "5       DX               XX              CHEST"
      ]
     },
     "execution_count": 4,
     "metadata": {},
     "output_type": "execute_result"
    }
   ],
   "source": [
    "## Create the dataframe that we want, and populate it in a loop with all of our DICOMS\n",
    "all_data = []\n",
    "\n",
    "for i in mydicoms: \n",
    "    dcm = pydicom.dcmread(i)\n",
    "    fields = [dcm.Modality, dcm.PatientPosition, dcm.BodyPartExamined]\n",
    "    all_data.append(fields)\n",
    "    \n",
    "mydata = pd.DataFrame(all_data, \n",
    "                      columns = ['Modality','Patient Position','Body Part Examined'])\n",
    "mydata"
   ]
  },
  {
   "cell_type": "markdown",
   "metadata": {},
   "source": [
    "Notice the CT scan (Image 4), the XX patient position (Image 5), and the Ribcage (Image 3). We will check these parameters on the check_dicom function. "
   ]
  },
  {
   "cell_type": "markdown",
   "metadata": {},
   "source": [
    "## Read imaging data from a .dcm file, preprocess the image and feed it into the model"
   ]
  },
  {
   "cell_type": "code",
   "execution_count": 5,
   "metadata": {},
   "outputs": [],
   "source": [
    "# This function reads in a .dcm file, checks the important fields for our device, and returns a numpy array\n",
    "# of just the imaging data\n",
    "def check_dicom(filename): \n",
    "          \n",
    "    print('Load file {} ...'.format(filename))\n",
    "    ds = pydicom.dcmread(filename)       \n",
    "    img = ds.pixel_array\n",
    "    \n",
    "    if (ds.BodyPartExamined !='CHEST') | (ds.Modality !='DX') | (ds.PatientPosition not in ['PA','AP']):\n",
    "          print('The model is not valid - wrong image position, image type, or body part.')\n",
    "    \n",
    "    \n",
    "    return img\n",
    "    \n",
    "    \n",
    "# This function takes the numpy array output by check_dicom and \n",
    "# runs the appropriate pre-processing needed for our model input\n",
    "def preprocess_image(img,img_mean,img_std,img_size): \n",
    "    \n",
    "    proc_img = (img - img_mean)/img_std\n",
    "    proc_img =  resize(proc_img, img_size, anti_aliasing=True) # Resize image to match a certain size.\n",
    "        \n",
    "    return proc_img\n",
    "\n",
    "# This function loads in our trained model w/ weights and compiles it \n",
    "def load_model(model_path, weight_path):\n",
    "    \n",
    "    json_file = open(model_path, 'r')\n",
    "    loaded_model_json = json_file.read()\n",
    "    json_file.close()\n",
    "    model = model_from_json(loaded_model_json)\n",
    "    model.load_weights(weight_path)\n",
    "          \n",
    "    return model\n",
    "\n",
    "# This function uses our device's threshold parameters to predict whether or not\n",
    "# the image shows the presence of pneumonia using our trained model\n",
    "def predict_image(model, img, thresh): \n",
    "     \n",
    "    result = model.predict(img)  \n",
    "    predict=result[0]\n",
    "    prediction='No pneumonia'\n",
    "    if(predict>thresh):\n",
    "        prediction='Pneumonia'\n",
    "   \n",
    "    return prediction "
   ]
  },
  {
   "cell_type": "code",
   "execution_count": null,
   "metadata": {},
   "outputs": [],
   "source": [
    "test_dicoms = ['test1.dcm','test2.dcm','test3.dcm','test4.dcm','test5.dcm','test6.dcm']\n",
    "\n",
    "model_path = \"my_model.json\" # path to saved model\n",
    "weight_path = \"xray_class_model.best.hdf5\" # path to saved best weights\n",
    "\n",
    "IMG_SIZE = (1,224,224,3) # This might be different if you did not use vgg16\n",
    "#img_mean = # loads the mean image value they used during training preprocessing\n",
    "#img_std = # loads the std dev image value they used during training preprocessing\n",
    "\n",
    "# Here I calculate the mean and std of the given images: \n",
    "for file in test_dicoms:\n",
    "    ds = pydicom.dcmread(file)       \n",
    "    img = ds.pixel_array\n",
    "    img_mean = np.mean(img)\n",
    "    img_std = np.std(img)\n",
    "img_mean = np.mean(img_mean)\n",
    "img_std = np.mean(img_std)\n",
    "\n",
    "\n",
    "json_file = open(model_path, \"r\") \n",
    "loaded_model_json = json_file.read() \n",
    "json_file.close() \n",
    "my_model = model_from_json(loaded_model_json) #loads model\n",
    "thresh = 0.54965 #threshold chosen for model classification (maxes F1-score maximum)\n",
    "\n",
    "# use the .dcm files to test your prediction\n",
    "for i in test_dicoms:\n",
    "    \n",
    "    img = np.array([])\n",
    "    img = check_dicom(i)\n",
    "    \n",
    "    if img is None:\n",
    "        continue\n",
    "        \n",
    "    img_proc = preprocess_image(img,img_mean,img_std,IMG_SIZE)\n",
    "    pred = predict_image(my_model,img_proc,thresh)\n",
    "    print(pred)"
   ]
  },
  {
   "cell_type": "code",
   "execution_count": null,
   "metadata": {},
   "outputs": [],
   "source": []
  }
 ],
 "metadata": {
  "kernelspec": {
   "display_name": "Python 3",
   "language": "python",
   "name": "python3"
  },
  "language_info": {
   "codemirror_mode": {
    "name": "ipython",
    "version": 3
   },
   "file_extension": ".py",
   "mimetype": "text/x-python",
   "name": "python",
   "nbconvert_exporter": "python",
   "pygments_lexer": "ipython3",
   "version": "3.6.12"
  }
 },
 "nbformat": 4,
 "nbformat_minor": 2
}
